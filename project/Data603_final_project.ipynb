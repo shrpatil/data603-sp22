{
 "cells": [
  {
   "cell_type": "markdown",
   "id": "2c4566d7-7f71-44cb-95bc-a273aa3cc9a7",
   "metadata": {},
   "source": [
    "# Prediction of Drug Binding Affinity of Protein Using Spark ML\n",
    "\n",
    "In my project I want to predict the likelihood of binding between sample drug compounds and target protein. Prediction of this binding affinity has application in protein engineering and computer aided drug discovery. If the activity value is less, then that is considered a good compound for potential drug for the protein activity control. \n",
    "\n",
    "For the project I have chosen ‘MAP kinase ERK2’ as my target protein. It is one type of Kinase protein which are intracellular enzymes that regulate cell growth and proliferation as well as the triggering and regulation of immune responses. Protein kinases are important therapeutic targets in cancer because of their critical role in signaling mechanisms that drive malignant cell characteristics. For this target protein we have binding affinity values for 4643 potential drug molecules.\n",
    "\n",
    "## Dataset\n",
    "- [Chembl Database](https://www.ebi.ac.uk/chembl/target_report_card/CHEMBL4040/)\n",
    "- Shape (3777, 5)\n",
    "- Data Dictionary \n",
    "    - NumHDonors : No more than 5 hydrogen bond donors (the total number of nitrogen–hydrogen and oxygen–hydrogen bonds)\n",
    "    - NumHAcceptors: No more than 10 hydrogen bond acceptors (all nitrogen or oxygen atoms)\n",
    "    - MW: A molecular mass less than 500 daltons.\n",
    "    - LogP : An octanol-water partition coefficient[10] (log P) that does not exceed 5\n",
    "    - bioactivity_class: Is the drug compund is active or inactive for target protein. \n"
   ]
  },
  {
   "cell_type": "markdown",
   "id": "b7db4bc7-13b5-4ce1-8b13-c70559fdf53d",
   "metadata": {},
   "source": [
    "## 1. Getting Data "
   ]
  },
  {
   "cell_type": "code",
   "execution_count": 1,
   "id": "3f39163b-a93b-473a-8f4d-9ec658434087",
   "metadata": {},
   "outputs": [],
   "source": [
    "import pandas as pd\n",
    "import numpy as np\n"
   ]
  },
  {
   "cell_type": "code",
   "execution_count": 2,
   "id": "283fa347-e7bf-4193-ad8b-f5bd06c6cfa0",
   "metadata": {},
   "outputs": [],
   "source": [
    "df = pd.read_csv('bioactivity_preprocessed_data.csv')"
   ]
  },
  {
   "cell_type": "code",
   "execution_count": 3,
   "id": "5cd49aa7-6c2e-485d-b33d-bb9da6c707b2",
   "metadata": {},
   "outputs": [
    {
     "data": {
      "text/html": [
       "<div>\n",
       "<style scoped>\n",
       "    .dataframe tbody tr th:only-of-type {\n",
       "        vertical-align: middle;\n",
       "    }\n",
       "\n",
       "    .dataframe tbody tr th {\n",
       "        vertical-align: top;\n",
       "    }\n",
       "\n",
       "    .dataframe thead th {\n",
       "        text-align: right;\n",
       "    }\n",
       "</style>\n",
       "<table border=\"1\" class=\"dataframe\">\n",
       "  <thead>\n",
       "    <tr style=\"text-align: right;\">\n",
       "      <th></th>\n",
       "      <th>molecule_chembl_id</th>\n",
       "      <th>canonical_smiles</th>\n",
       "      <th>bioactivity_class</th>\n",
       "      <th>standard_value</th>\n",
       "    </tr>\n",
       "  </thead>\n",
       "  <tbody>\n",
       "    <tr>\n",
       "      <th>0</th>\n",
       "      <td>CHEMBL397591</td>\n",
       "      <td>Nc1ncc(/C=C/CNC(=O)c2cc(Br)c(Br)[nH]2)[nH]1</td>\n",
       "      <td>inactive</td>\n",
       "      <td>2500.0</td>\n",
       "    </tr>\n",
       "    <tr>\n",
       "      <th>1</th>\n",
       "      <td>CHEMBL35482</td>\n",
       "      <td>COc1cccc(-c2cc(=O)c3ccccc3o2)c1N</td>\n",
       "      <td>inactive</td>\n",
       "      <td>2800.0</td>\n",
       "    </tr>\n",
       "    <tr>\n",
       "      <th>2</th>\n",
       "      <td>CHEMBL388978</td>\n",
       "      <td>CN[C@@H]1C[C@H]2O[C@@](C)([C@@H]1OC)n1c3ccccc3...</td>\n",
       "      <td>active</td>\n",
       "      <td>2.5</td>\n",
       "    </tr>\n",
       "    <tr>\n",
       "      <th>3</th>\n",
       "      <td>CHEMBL356164</td>\n",
       "      <td>NC(=O)c1cc(Br)c(Br)[nH]1</td>\n",
       "      <td>inactive</td>\n",
       "      <td>2500.0</td>\n",
       "    </tr>\n",
       "    <tr>\n",
       "      <th>4</th>\n",
       "      <td>CHEMBL361708</td>\n",
       "      <td>NC1=NC(=O)/C(=C2\\CCNC(=O)c3[nH]c(Br)cc32)N1</td>\n",
       "      <td>active</td>\n",
       "      <td>9.0</td>\n",
       "    </tr>\n",
       "  </tbody>\n",
       "</table>\n",
       "</div>"
      ],
      "text/plain": [
       "  molecule_chembl_id                                   canonical_smiles  \\\n",
       "0       CHEMBL397591        Nc1ncc(/C=C/CNC(=O)c2cc(Br)c(Br)[nH]2)[nH]1   \n",
       "1        CHEMBL35482                   COc1cccc(-c2cc(=O)c3ccccc3o2)c1N   \n",
       "2       CHEMBL388978  CN[C@@H]1C[C@H]2O[C@@](C)([C@@H]1OC)n1c3ccccc3...   \n",
       "3       CHEMBL356164                           NC(=O)c1cc(Br)c(Br)[nH]1   \n",
       "4       CHEMBL361708        NC1=NC(=O)/C(=C2\\CCNC(=O)c3[nH]c(Br)cc32)N1   \n",
       "\n",
       "  bioactivity_class  standard_value  \n",
       "0          inactive          2500.0  \n",
       "1          inactive          2800.0  \n",
       "2            active             2.5  \n",
       "3          inactive          2500.0  \n",
       "4            active             9.0  "
      ]
     },
     "execution_count": 3,
     "metadata": {},
     "output_type": "execute_result"
    }
   ],
   "source": [
    "df.head()"
   ]
  },
  {
   "cell_type": "code",
   "execution_count": 4,
   "id": "539f14a9-7ede-4db8-860b-835f3bc8c4b9",
   "metadata": {},
   "outputs": [
    {
     "name": "stdout",
     "output_type": "stream",
     "text": [
      "<class 'pandas.core.frame.DataFrame'>\n",
      "RangeIndex: 3777 entries, 0 to 3776\n",
      "Data columns (total 4 columns):\n",
      " #   Column              Non-Null Count  Dtype  \n",
      "---  ------              --------------  -----  \n",
      " 0   molecule_chembl_id  3777 non-null   object \n",
      " 1   canonical_smiles    3775 non-null   object \n",
      " 2   bioactivity_class   3777 non-null   object \n",
      " 3   standard_value      3777 non-null   float64\n",
      "dtypes: float64(1), object(3)\n",
      "memory usage: 118.2+ KB\n"
     ]
    }
   ],
   "source": [
    "df.info()"
   ]
  },
  {
   "cell_type": "code",
   "execution_count": 5,
   "id": "48a21c2a-f657-42b4-a48f-621584e5346f",
   "metadata": {},
   "outputs": [
    {
     "data": {
      "text/html": [
       "<div>\n",
       "<style scoped>\n",
       "    .dataframe tbody tr th:only-of-type {\n",
       "        vertical-align: middle;\n",
       "    }\n",
       "\n",
       "    .dataframe tbody tr th {\n",
       "        vertical-align: top;\n",
       "    }\n",
       "\n",
       "    .dataframe thead th {\n",
       "        text-align: right;\n",
       "    }\n",
       "</style>\n",
       "<table border=\"1\" class=\"dataframe\">\n",
       "  <thead>\n",
       "    <tr style=\"text-align: right;\">\n",
       "      <th></th>\n",
       "      <th>molecule_chembl_id</th>\n",
       "      <th>canonical_smiles</th>\n",
       "      <th>bioactivity_class</th>\n",
       "      <th>standard_value</th>\n",
       "    </tr>\n",
       "  </thead>\n",
       "  <tbody>\n",
       "    <tr>\n",
       "      <th>275</th>\n",
       "      <td>CHEMBL1909054</td>\n",
       "      <td>NaN</td>\n",
       "      <td>active</td>\n",
       "      <td>216.0</td>\n",
       "    </tr>\n",
       "    <tr>\n",
       "      <th>277</th>\n",
       "      <td>CHEMBL1909064</td>\n",
       "      <td>NaN</td>\n",
       "      <td>active</td>\n",
       "      <td>320.8</td>\n",
       "    </tr>\n",
       "  </tbody>\n",
       "</table>\n",
       "</div>"
      ],
      "text/plain": [
       "    molecule_chembl_id canonical_smiles bioactivity_class  standard_value\n",
       "275      CHEMBL1909054              NaN            active           216.0\n",
       "277      CHEMBL1909064              NaN            active           320.8"
      ]
     },
     "execution_count": 5,
     "metadata": {},
     "output_type": "execute_result"
    }
   ],
   "source": [
    "df[df['canonical_smiles'].isnull()]"
   ]
  },
  {
   "cell_type": "markdown",
   "id": "0b40e4d2-70d9-4268-a8f3-f377ea26a216",
   "metadata": {},
   "source": [
    "> The canonical_smiles is a linear text format which can describe the connectivity and chirality of a molecule. Canonical SMILES gives a single 'canonical' form for any particular molecule. Considering this if we use this feature to predict the values it will be very sparse input to the model so I will drop this column."
   ]
  },
  {
   "cell_type": "code",
   "execution_count": 6,
   "id": "bebcc42f-a6ca-4909-847b-04c8c5e7729d",
   "metadata": {},
   "outputs": [],
   "source": [
    "df=df.dropna()"
   ]
  },
  {
   "cell_type": "code",
   "execution_count": 7,
   "id": "18e4b6c2-dd1c-48d4-a566-80a7d1803bf9",
   "metadata": {},
   "outputs": [
    {
     "name": "stdout",
     "output_type": "stream",
     "text": [
      "<class 'pandas.core.frame.DataFrame'>\n",
      "Int64Index: 3775 entries, 0 to 3776\n",
      "Data columns (total 4 columns):\n",
      " #   Column              Non-Null Count  Dtype  \n",
      "---  ------              --------------  -----  \n",
      " 0   molecule_chembl_id  3775 non-null   object \n",
      " 1   canonical_smiles    3775 non-null   object \n",
      " 2   bioactivity_class   3775 non-null   object \n",
      " 3   standard_value      3775 non-null   float64\n",
      "dtypes: float64(1), object(3)\n",
      "memory usage: 147.5+ KB\n"
     ]
    }
   ],
   "source": [
    "df.info()"
   ]
  },
  {
   "cell_type": "markdown",
   "id": "d6601aa6-64be-4d8d-89ca-e33aa69cbdce",
   "metadata": {},
   "source": [
    "> Using websites GUI download I was only able to get the molecule_id, Canonical_smiles, Bioactivity_class and therir standard_value. To get the other features I have used lipinski() function which was refered from (https://codeocean.com/explore/capsules?query=tag:data-curation)"
   ]
  },
  {
   "cell_type": "code",
   "execution_count": 8,
   "id": "19490683-2b59-4d05-86c9-e0225171382a",
   "metadata": {},
   "outputs": [],
   "source": [
    "from rdkit import Chem\n",
    "from rdkit.Chem import Descriptors, Lipinski\n",
    "def lipinski(smiles, verbose=False):\n",
    "\n",
    "    moldata= []\n",
    "    for elem in smiles:\n",
    "        \n",
    "        mol=Chem.MolFromSmiles(elem) \n",
    "        moldata.append(mol)\n",
    "       \n",
    "    baseData= np.arange(1,1)\n",
    "    i=0  \n",
    "    for mol in moldata:        \n",
    "       \n",
    "        desc_MolWt = Descriptors.MolWt(mol)\n",
    "        desc_MolLogP = Descriptors.MolLogP(mol)\n",
    "        desc_NumHDonors = Lipinski.NumHDonors(mol)\n",
    "        desc_NumHAcceptors = Lipinski.NumHAcceptors(mol)\n",
    "        \n",
    "           \n",
    "        row = np.array([desc_MolWt,\n",
    "                        desc_MolLogP,\n",
    "                        desc_NumHDonors,\n",
    "                        desc_NumHAcceptors])   \n",
    "    \n",
    "        if(i==0):\n",
    "            baseData=row\n",
    "        else:\n",
    "            baseData=np.vstack([baseData, row])\n",
    "        i=i+1      \n",
    "    \n",
    "    columnNames=[\"MW\",\"LogP\",\"NumHDonors\",\"NumHAcceptors\"]   \n",
    "    descriptors = pd.DataFrame(data=baseData,columns=columnNames)\n",
    "    \n",
    "    return descriptors"
   ]
  },
  {
   "cell_type": "code",
   "execution_count": 9,
   "id": "ac64dc92-01a7-4cee-9ca1-415f69ff16b4",
   "metadata": {},
   "outputs": [],
   "source": [
    "df_lipinski = lipinski(df['canonical_smiles'])"
   ]
  },
  {
   "cell_type": "code",
   "execution_count": 10,
   "id": "b89eb770-b97e-4291-9824-90e87ce9d01d",
   "metadata": {},
   "outputs": [
    {
     "data": {
      "text/html": [
       "<div>\n",
       "<style scoped>\n",
       "    .dataframe tbody tr th:only-of-type {\n",
       "        vertical-align: middle;\n",
       "    }\n",
       "\n",
       "    .dataframe tbody tr th {\n",
       "        vertical-align: top;\n",
       "    }\n",
       "\n",
       "    .dataframe thead th {\n",
       "        text-align: right;\n",
       "    }\n",
       "</style>\n",
       "<table border=\"1\" class=\"dataframe\">\n",
       "  <thead>\n",
       "    <tr style=\"text-align: right;\">\n",
       "      <th></th>\n",
       "      <th>MW</th>\n",
       "      <th>LogP</th>\n",
       "      <th>NumHDonors</th>\n",
       "      <th>NumHAcceptors</th>\n",
       "    </tr>\n",
       "  </thead>\n",
       "  <tbody>\n",
       "    <tr>\n",
       "      <th>0</th>\n",
       "      <td>389.051</td>\n",
       "      <td>2.2882</td>\n",
       "      <td>4.0</td>\n",
       "      <td>3.0</td>\n",
       "    </tr>\n",
       "    <tr>\n",
       "      <th>1</th>\n",
       "      <td>267.284</td>\n",
       "      <td>3.0508</td>\n",
       "      <td>1.0</td>\n",
       "      <td>4.0</td>\n",
       "    </tr>\n",
       "    <tr>\n",
       "      <th>2</th>\n",
       "      <td>466.541</td>\n",
       "      <td>4.3540</td>\n",
       "      <td>2.0</td>\n",
       "      <td>6.0</td>\n",
       "    </tr>\n",
       "    <tr>\n",
       "      <th>3</th>\n",
       "      <td>267.908</td>\n",
       "      <td>1.6386</td>\n",
       "      <td>2.0</td>\n",
       "      <td>1.0</td>\n",
       "    </tr>\n",
       "    <tr>\n",
       "      <th>4</th>\n",
       "      <td>324.138</td>\n",
       "      <td>0.0663</td>\n",
       "      <td>4.0</td>\n",
       "      <td>4.0</td>\n",
       "    </tr>\n",
       "    <tr>\n",
       "      <th>...</th>\n",
       "      <td>...</td>\n",
       "      <td>...</td>\n",
       "      <td>...</td>\n",
       "      <td>...</td>\n",
       "    </tr>\n",
       "    <tr>\n",
       "      <th>3770</th>\n",
       "      <td>312.333</td>\n",
       "      <td>1.7279</td>\n",
       "      <td>4.0</td>\n",
       "      <td>5.0</td>\n",
       "    </tr>\n",
       "    <tr>\n",
       "      <th>3771</th>\n",
       "      <td>312.333</td>\n",
       "      <td>1.7279</td>\n",
       "      <td>4.0</td>\n",
       "      <td>5.0</td>\n",
       "    </tr>\n",
       "    <tr>\n",
       "      <th>3772</th>\n",
       "      <td>402.454</td>\n",
       "      <td>2.3537</td>\n",
       "      <td>0.0</td>\n",
       "      <td>5.0</td>\n",
       "    </tr>\n",
       "    <tr>\n",
       "      <th>3773</th>\n",
       "      <td>481.350</td>\n",
       "      <td>3.1162</td>\n",
       "      <td>0.0</td>\n",
       "      <td>5.0</td>\n",
       "    </tr>\n",
       "    <tr>\n",
       "      <th>3774</th>\n",
       "      <td>458.540</td>\n",
       "      <td>1.1302</td>\n",
       "      <td>0.0</td>\n",
       "      <td>7.0</td>\n",
       "    </tr>\n",
       "  </tbody>\n",
       "</table>\n",
       "<p>3775 rows × 4 columns</p>\n",
       "</div>"
      ],
      "text/plain": [
       "           MW    LogP  NumHDonors  NumHAcceptors\n",
       "0     389.051  2.2882         4.0            3.0\n",
       "1     267.284  3.0508         1.0            4.0\n",
       "2     466.541  4.3540         2.0            6.0\n",
       "3     267.908  1.6386         2.0            1.0\n",
       "4     324.138  0.0663         4.0            4.0\n",
       "...       ...     ...         ...            ...\n",
       "3770  312.333  1.7279         4.0            5.0\n",
       "3771  312.333  1.7279         4.0            5.0\n",
       "3772  402.454  2.3537         0.0            5.0\n",
       "3773  481.350  3.1162         0.0            5.0\n",
       "3774  458.540  1.1302         0.0            7.0\n",
       "\n",
       "[3775 rows x 4 columns]"
      ]
     },
     "execution_count": 10,
     "metadata": {},
     "output_type": "execute_result"
    }
   ],
   "source": [
    "df_lipinski"
   ]
  },
  {
   "cell_type": "code",
   "execution_count": 11,
   "id": "9c22f51a-7e29-4376-a6da-9a197addf2b5",
   "metadata": {},
   "outputs": [],
   "source": [
    "df_combined = pd.concat([df,df_lipinski], axis=1)"
   ]
  },
  {
   "cell_type": "code",
   "execution_count": 12,
   "id": "339a438a-9cd5-456b-a853-bec36cd0ee93",
   "metadata": {},
   "outputs": [
    {
     "name": "stdout",
     "output_type": "stream",
     "text": [
      "<class 'pandas.core.frame.DataFrame'>\n",
      "Int64Index: 3777 entries, 0 to 277\n",
      "Data columns (total 8 columns):\n",
      " #   Column              Non-Null Count  Dtype  \n",
      "---  ------              --------------  -----  \n",
      " 0   molecule_chembl_id  3775 non-null   object \n",
      " 1   canonical_smiles    3775 non-null   object \n",
      " 2   bioactivity_class   3775 non-null   object \n",
      " 3   standard_value      3775 non-null   float64\n",
      " 4   MW                  3775 non-null   float64\n",
      " 5   LogP                3775 non-null   float64\n",
      " 6   NumHDonors          3775 non-null   float64\n",
      " 7   NumHAcceptors       3775 non-null   float64\n",
      "dtypes: float64(5), object(3)\n",
      "memory usage: 265.6+ KB\n"
     ]
    }
   ],
   "source": [
    "df_combined.info()"
   ]
  },
  {
   "cell_type": "code",
   "execution_count": 13,
   "id": "cd2a13d8-0916-4311-a325-7e26b7054ccb",
   "metadata": {},
   "outputs": [],
   "source": [
    "df_combined.to_csv('bioactivity_model_data_final.csv', index=False)"
   ]
  },
  {
   "cell_type": "markdown",
   "id": "ab71931f-dde4-4793-be99-5bf76529b76d",
   "metadata": {},
   "source": [
    "## 2. Exploratory Data Analysis"
   ]
  },
  {
   "cell_type": "code",
   "execution_count": 14,
   "id": "b0bf174a-a001-44cf-ba89-38390dafca2d",
   "metadata": {},
   "outputs": [
    {
     "data": {
      "text/html": [
       "\n",
       "            <div>\n",
       "                <p><b>SparkSession - in-memory</b></p>\n",
       "                \n",
       "        <div>\n",
       "            <p><b>SparkContext</b></p>\n",
       "\n",
       "            <p><a href=\"http://4580aa86c773:4040\">Spark UI</a></p>\n",
       "\n",
       "            <dl>\n",
       "              <dt>Version</dt>\n",
       "                <dd><code>v3.2.1</code></dd>\n",
       "              <dt>Master</dt>\n",
       "                <dd><code>local[*]</code></dd>\n",
       "              <dt>AppName</dt>\n",
       "                <dd><code>pyspark-shell</code></dd>\n",
       "            </dl>\n",
       "        </div>\n",
       "        \n",
       "            </div>\n",
       "        "
      ],
      "text/plain": [
       "<pyspark.sql.session.SparkSession at 0xffff6824a430>"
      ]
     },
     "execution_count": 14,
     "metadata": {},
     "output_type": "execute_result"
    }
   ],
   "source": [
    "import pyspark\n",
    "spark = pyspark.sql.SparkSession.builder.getOrCreate()\n",
    "\n",
    "sc = spark.sparkContext\n",
    "from pyspark.sql.types import StructType,StructField,DoubleType,StringType, IntegerType, FloatType\n",
    "\n",
    "from pyspark.sql import SparkSession\n",
    "spark = SparkSession.builder.getOrCreate()\n",
    "spark"
   ]
  },
  {
   "cell_type": "code",
   "execution_count": 15,
   "id": "47277fd4-197f-4013-a855-cdee49c4187a",
   "metadata": {},
   "outputs": [],
   "source": [
    "data = spark.read.csv('bioactivity_model_data_final.csv')"
   ]
  },
  {
   "cell_type": "code",
   "execution_count": 16,
   "id": "edc88388-136f-4ac7-8e57-77b289fa4e98",
   "metadata": {},
   "outputs": [
    {
     "data": {
      "text/plain": [
       "[Row(_c0='molecule_chembl_id', _c1='canonical_smiles', _c2='bioactivity_class', _c3='standard_value', _c4='MW', _c5='LogP', _c6='NumHDonors', _c7='NumHAcceptors'),\n",
       " Row(_c0='CHEMBL397591', _c1='Nc1ncc(/C=C/CNC(=O)c2cc(Br)c(Br)[nH]2)[nH]1', _c2='inactive', _c3='2500.0', _c4='389.051', _c5='2.2882', _c6='4.0', _c7='3.0')]"
      ]
     },
     "execution_count": 16,
     "metadata": {},
     "output_type": "execute_result"
    }
   ],
   "source": [
    "data.head(2)"
   ]
  },
  {
   "cell_type": "code",
   "execution_count": 17,
   "id": "7ba12749-5688-4239-93f5-da5d036dc911",
   "metadata": {},
   "outputs": [],
   "source": [
    "schema = StructType([\n",
    "  StructField(\"molecule_chembl_id\", StringType(), False),\n",
    "  StructField(\"canonical_smiles\", StringType(), False),\n",
    "  StructField(\"bioactivity_class\", StringType(), False),\n",
    "  StructField(\"MW\", DoubleType(), False),\n",
    "  StructField(\"LogP\", DoubleType(), False),\n",
    "  StructField(\"NumHDonors\", DoubleType(), False),\n",
    "  StructField(\"NumHAcceptors\", DoubleType(), False),\n",
    "])"
   ]
  },
  {
   "cell_type": "code",
   "execution_count": 18,
   "id": "5a6d608c-19b6-4f7b-9e7e-c7adc2cb61dd",
   "metadata": {},
   "outputs": [],
   "source": [
    "data = spark.read.format(\"csv\").schema(schema).load(\"bioactivity_model_data_final.csv\")\n",
    "cols = data.columns"
   ]
  },
  {
   "cell_type": "code",
   "execution_count": 19,
   "id": "55301d04-f840-48e2-a151-cdca57f68a31",
   "metadata": {},
   "outputs": [
    {
     "name": "stdout",
     "output_type": "stream",
     "text": [
      "+------------------+--------------------+-----------------+------+------------------+------------------+-------------+\n",
      "|molecule_chembl_id|    canonical_smiles|bioactivity_class|    MW|              LogP|        NumHDonors|NumHAcceptors|\n",
      "+------------------+--------------------+-----------------+------+------------------+------------------+-------------+\n",
      "|molecule_chembl_id|    canonical_smiles|bioactivity_class|  null|              null|              null|         null|\n",
      "|      CHEMBL397591|Nc1ncc(/C=C/CNC(=...|         inactive|2500.0|           389.051|            2.2882|          4.0|\n",
      "|       CHEMBL35482|COc1cccc(-c2cc(=O...|         inactive|2800.0|           267.284|3.0508000000000006|          1.0|\n",
      "|      CHEMBL388978|CN[C@@H]1C[C@H]2O...|           active|   2.5| 466.5410000000003| 4.354000000000003|          2.0|\n",
      "|      CHEMBL356164|NC(=O)c1cc(Br)c(B...|         inactive|2500.0|267.90799999999996|1.6385999999999998|          2.0|\n",
      "+------------------+--------------------+-----------------+------+------------------+------------------+-------------+\n",
      "only showing top 5 rows\n",
      "\n"
     ]
    }
   ],
   "source": [
    "data.show(5)"
   ]
  },
  {
   "cell_type": "code",
   "execution_count": 20,
   "id": "47380c84-a522-4360-a3ba-6f076e49e12f",
   "metadata": {},
   "outputs": [
    {
     "name": "stdout",
     "output_type": "stream",
     "text": [
      "root\n",
      " |-- molecule_chembl_id: string (nullable = true)\n",
      " |-- canonical_smiles: string (nullable = true)\n",
      " |-- bioactivity_class: string (nullable = true)\n",
      " |-- MW: double (nullable = true)\n",
      " |-- LogP: double (nullable = true)\n",
      " |-- NumHDonors: double (nullable = true)\n",
      " |-- NumHAcceptors: double (nullable = true)\n",
      "\n"
     ]
    }
   ],
   "source": [
    "data.printSchema()"
   ]
  },
  {
   "cell_type": "code",
   "execution_count": 21,
   "id": "37cec9e9-e821-49f3-ba64-38d26fce9587",
   "metadata": {},
   "outputs": [
    {
     "name": "stdout",
     "output_type": "stream",
     "text": [
      "+------------------+----------------+-----------------+---+----+----------+-------------+\n",
      "|molecule_chembl_id|canonical_smiles|bioactivity_class| MW|LogP|NumHDonors|NumHAcceptors|\n",
      "+------------------+----------------+-----------------+---+----+----------+-------------+\n",
      "|                 2|               2|                2|  3|   3|         3|            3|\n",
      "+------------------+----------------+-----------------+---+----+----------+-------------+\n",
      "\n"
     ]
    }
   ],
   "source": [
    "from pyspark.sql.functions import isnan, when, count, col\n",
    "null_val=data.select([count(when(isnan(c) | col(c).isNull(), c)).alias(c) for c in data.columns])\n",
    "\n",
    "null_val.show()"
   ]
  },
  {
   "cell_type": "code",
   "execution_count": 22,
   "id": "02753465-0ff8-44f1-bb20-16b018480b1c",
   "metadata": {},
   "outputs": [
    {
     "name": "stdout",
     "output_type": "stream",
     "text": [
      "+------------------+--------------------+-----------------+------+------------------+-----------------+-------------+\n",
      "|molecule_chembl_id|    canonical_smiles|bioactivity_class|    MW|              LogP|       NumHDonors|NumHAcceptors|\n",
      "+------------------+--------------------+-----------------+------+------------------+-----------------+-------------+\n",
      "|molecule_chembl_id|    canonical_smiles|bioactivity_class|  null|              null|             null|         null|\n",
      "|     CHEMBL4549667|CN1C(=O)[C@@H](N2...|         inactive|1000.0|              null|             null|         null|\n",
      "|     CHEMBL4097778|CN1C(=O)[C@@H](N2...|         inactive|1000.0|              null|             null|         null|\n",
      "|              null|                null|             null|  null|300.44200000000006|5.602600000000005|          1.0|\n",
      "|              null|                null|             null|  null|310.39300000000003|4.396800000000003|          1.0|\n",
      "+------------------+--------------------+-----------------+------+------------------+-----------------+-------------+\n",
      "\n"
     ]
    }
   ],
   "source": [
    "import pyspark.sql.functions as f\n",
    "from functools import reduce\n",
    "\n",
    "data.where(reduce(lambda x, y: x | y, (f.col(x).isNull() for x in data.columns))).show()"
   ]
  },
  {
   "cell_type": "markdown",
   "id": "034218ae-2516-4593-9b68-bb7cd6ccb182",
   "metadata": {},
   "source": [
    "> From the table we can see for 2 molecules there is missing data for all four features and for 2 molecules we don't have id or bioactivity_class data so I will drop these 4 rows."
   ]
  },
  {
   "cell_type": "code",
   "execution_count": 23,
   "id": "cec641e6-89b8-4601-9a70-9071de9e603c",
   "metadata": {},
   "outputs": [
    {
     "name": "stdout",
     "output_type": "stream",
     "text": [
      "+------------------+----------------+-----------------+---+----+----------+-------------+\n",
      "|molecule_chembl_id|canonical_smiles|bioactivity_class| MW|LogP|NumHDonors|NumHAcceptors|\n",
      "+------------------+----------------+-----------------+---+----+----------+-------------+\n",
      "+------------------+----------------+-----------------+---+----+----------+-------------+\n",
      "\n"
     ]
    }
   ],
   "source": [
    "data=data.dropna()\n",
    "data.where(reduce(lambda x, y: x | y, (f.col(x).isNull() for x in data.columns))).show()"
   ]
  },
  {
   "cell_type": "code",
   "execution_count": 24,
   "id": "0493be02-b943-410a-a07b-bdea401cf835",
   "metadata": {},
   "outputs": [
    {
     "name": "stdout",
     "output_type": "stream",
     "text": [
      "+------------------+--------------------+-----------------+--------+------------------+-------------------+-------------+\n",
      "|molecule_chembl_id|    canonical_smiles|bioactivity_class|      MW|              LogP|         NumHDonors|NumHAcceptors|\n",
      "+------------------+--------------------+-----------------+--------+------------------+-------------------+-------------+\n",
      "|      CHEMBL397591|Nc1ncc(/C=C/CNC(=...|                0|  2500.0|           389.051|             2.2882|          4.0|\n",
      "|       CHEMBL35482|COc1cccc(-c2cc(=O...|                0|  2800.0|           267.284| 3.0508000000000006|          1.0|\n",
      "|      CHEMBL388978|CN[C@@H]1C[C@H]2O...|                1|     2.5| 466.5410000000003|  4.354000000000003|          2.0|\n",
      "|      CHEMBL356164|NC(=O)c1cc(Br)c(B...|                0|  2500.0|267.90799999999996| 1.6385999999999998|          2.0|\n",
      "|      CHEMBL361708|NC1=NC(=O)/C(=C2\\...|                1|     9.0|           324.138|0.06629999999999997|          4.0|\n",
      "|      CHEMBL255465|NC1=N/C(=C2/CCNC(...|                1|   824.0|245.24200000000002|-0.6962000000000006|          4.0|\n",
      "|      CHEMBL151430|Nc1nc(C2CCNC(=O)c...|                0|  1288.0|389.05100000000004|             2.1104|          4.0|\n",
      "|      CHEMBL357047|O=C1CCNC(=O)c2[nH...|                0|  2500.0|           164.164| 0.3309000000000001|          2.0|\n",
      "|      CHEMBL440356|O=C1CCNC(=O)c2[nH...|                1|   539.0|243.05999999999997| 1.0934000000000001|          2.0|\n",
      "|      CHEMBL359106|NC1=N/C(=C2\\CCNC(...|                1|     6.0|324.13800000000003|0.06629999999999997|          4.0|\n",
      "|       CHEMBL75680|CCCCc1c(-c2ccc(O)...|                0| 22000.0|267.33200000000005| 3.6731000000000016|          2.0|\n",
      "|      CHEMBL280074|Cn1cnc2c(NCc3cccc...|                0|  7000.0|            298.35| 1.3795999999999995|          3.0|\n",
      "|       CHEMBL14762|CC[C@H](CO)Nc1nc(...|                0| 14000.0| 354.4580000000001| 3.2021000000000015|          3.0|\n",
      "|       CHEMBL77155|CC(C)=CCNc1nc(N)n...|                0| 50000.0|           260.345| 2.3674999999999997|          2.0|\n",
      "|      CHEMBL115220|O=C(Cc1ccc2ccccc2...|                0| 10000.0|           291.354|  3.621500000000001|          2.0|\n",
      "|      CHEMBL388978|CN[C@@H]1C[C@H]2O...|                0|  1380.0| 466.5410000000003|  4.354000000000003|          2.0|\n",
      "|      CHEMBL103055|CCN1CCOCCn2cc(c3c...|                0|100000.0| 512.6100000000004|  3.531900000000002|          1.0|\n",
      "|      CHEMBL388978|CN[C@@H]1C[C@H]2O...|                1|     1.0| 466.5410000000003|  4.354000000000003|          2.0|\n",
      "|      CHEMBL296682|Nc1nccc(-c2c[nH]c...|                0|100000.0|305.13500000000005| 2.6752000000000007|          3.0|\n",
      "|       CHEMBL99743|COc1cc2ncnc(N3CCN...|                0| 30000.0|438.44400000000024| 2.9093000000000018|          1.0|\n",
      "+------------------+--------------------+-----------------+--------+------------------+-------------------+-------------+\n",
      "only showing top 20 rows\n",
      "\n"
     ]
    }
   ],
   "source": [
    "data.replace(['inactive', 'active'], ['0', '1'], 'bioactivity_class').show()"
   ]
  },
  {
   "cell_type": "code",
   "execution_count": 25,
   "id": "ba0182d2-2b72-491d-9a57-e9eddb298537",
   "metadata": {},
   "outputs": [],
   "source": [
    "df=data.toPandas()"
   ]
  },
  {
   "cell_type": "code",
   "execution_count": 26,
   "id": "16d58265-3af9-4871-b956-213d88308755",
   "metadata": {},
   "outputs": [],
   "source": [
    "import seaborn as sns\n",
    "sns.set(style='ticks')\n",
    "import matplotlib.pyplot as plt"
   ]
  },
  {
   "cell_type": "code",
   "execution_count": 27,
   "id": "98a25e9a-f9bc-4ac8-aa90-dd35121b9b97",
   "metadata": {},
   "outputs": [
    {
     "data": {
      "image/png": "[encoded data removed]",
      "text/plain": [
       "<Figure size 396x396 with 1 Axes>"
      ]
     },
     "metadata": {},
     "output_type": "display_data"
    }
   ],
   "source": [
    "plt.figure(figsize=(5.5, 5.5))\n",
    "\n",
    "sns.countplot(x='bioactivity_class', data=df)\n",
    "plt.xlabel('Bioactivity class', fontsize=14)\n",
    "plt.ylabel('Frequency', fontsize=14)\n",
    "plt.show()"
   ]
  },
  {
   "cell_type": "markdown",
   "id": "fb9f8c5c-b1ec-40c9-9cd3-8c883c468eab",
   "metadata": {},
   "source": [
    "> Graph shows that target values of the dataset is very imbalance. There are large amount of active class present."
   ]
  },
  {
   "cell_type": "code",
   "execution_count": 28,
   "id": "752574f4-af41-45e1-8038-f88b01389f29",
   "metadata": {},
   "outputs": [
    {
     "data": {
      "image/png": "[encoded data removed]",
      "text/plain": [
       "<Figure size 540x396 with 1 Axes>"
      ]
     },
     "metadata": {},
     "output_type": "display_data"
    }
   ],
   "source": [
    "plt.figure(figsize=(7.5, 5.5))\n",
    "sns.scatterplot(x='MW', y='LogP', data=df, hue='bioactivity_class' )\n",
    "plt.xlabel('MW', fontsize=14, fontweight='bold')\n",
    "plt.ylabel('LogP', fontsize=14, fontweight='bold')\n",
    "plt.show()"
   ]
  },
  {
   "cell_type": "code",
   "execution_count": 29,
   "id": "205baf0a-05e4-4abc-a8ba-c766c6ad4319",
   "metadata": {},
   "outputs": [
    {
     "data": {
      "image/png": "[encoded data removed]",
      "text/plain": [
       "<Figure size 396x396 with 1 Axes>"
      ]
     },
     "metadata": {},
     "output_type": "display_data"
    }
   ],
   "source": [
    "plt.figure(figsize=(5.5, 5.5))\n",
    "\n",
    "sns.boxplot(x = 'bioactivity_class', y = 'MW', data = df)\n",
    "plt.xlabel('Bioactivity class', fontsize=14)\n",
    "plt.ylabel('MW', fontsize=14)\n",
    "plt.show()"
   ]
  },
  {
   "cell_type": "code",
   "execution_count": 30,
   "id": "baf20410-7311-4fe0-9a0d-c23a1cefc08f",
   "metadata": {},
   "outputs": [
    {
     "data": {
      "image/png": "[encoded data removed]",
      "text/plain": [
       "<Figure size 396x396 with 1 Axes>"
      ]
     },
     "metadata": {},
     "output_type": "display_data"
    }
   ],
   "source": [
    "plt.figure(figsize=(5.5, 5.5))\n",
    "\n",
    "sns.boxplot(x = 'bioactivity_class', y = 'LogP', data = df)\n",
    "plt.xlabel('Bioactivity class', fontsize=14)\n",
    "plt.ylabel('LogP', fontsize=14)\n",
    "plt.show()"
   ]
  },
  {
   "cell_type": "code",
   "execution_count": 31,
   "id": "65083c19-2f86-497f-bfa4-8027ab4dbdd7",
   "metadata": {},
   "outputs": [
    {
     "data": {
      "image/png": "[encoded data removed]",
      "text/plain": [
       "<Figure size 396x396 with 1 Axes>"
      ]
     },
     "metadata": {},
     "output_type": "display_data"
    }
   ],
   "source": [
    "plt.figure(figsize=(5.5, 5.5))\n",
    "\n",
    "sns.boxplot(x = 'bioactivity_class', y = 'NumHDonors', data = df)\n",
    "plt.xlabel('Bioactivity class', fontsize=14)\n",
    "plt.ylabel('NumHDonors', fontsize=14)\n",
    "plt.show()"
   ]
  },
  {
   "cell_type": "code",
   "execution_count": 32,
   "id": "15b544e1-a0ab-4c0c-aed2-0099ebba484a",
   "metadata": {},
   "outputs": [
    {
     "data": {
      "image/png": "[encoded data removed]",
      "text/plain": [
       "<Figure size 396x396 with 1 Axes>"
      ]
     },
     "metadata": {},
     "output_type": "display_data"
    }
   ],
   "source": [
    "plt.figure(figsize=(5.5, 5.5))\n",
    "\n",
    "sns.boxplot(x = 'bioactivity_class', y = 'NumHAcceptors', data =df)\n",
    "\n",
    "plt.xlabel('Bioactivity class', fontsize=14, fontweight='bold')\n",
    "plt.ylabel('NumHAcceptors', fontsize=14, fontweight='bold')\n",
    "\n",
    "plt.savefig('plot_NumHAcceptors.pdf')"
   ]
  },
  {
   "cell_type": "markdown",
   "id": "435c338d-d06e-4e5e-aa91-ce1d20dc6e39",
   "metadata": {},
   "source": [
    "> For all the features there is no extreme difference for active and inactive class values. Correlation between molecular weight and LogP value for both classes is pretty similar. "
   ]
  },
  {
   "cell_type": "markdown",
   "id": "a8c6f13c-5964-4d22-b864-e8eea44815aa",
   "metadata": {},
   "source": [
    "## 3. Modeling"
   ]
  },
  {
   "cell_type": "code",
   "execution_count": 33,
   "id": "5138f83c-6ddc-4c20-a354-ee97fed401aa",
   "metadata": {},
   "outputs": [],
   "source": [
    "\n",
    "# Creating pipelines for feature and label columns\n",
    "\n",
    "import pyspark\n",
    "from pyspark.ml import Pipeline\n",
    "from pyspark.ml.feature import StringIndexer, VectorAssembler\n",
    "\n",
    "stages = [] \n",
    "label_stringIdx = StringIndexer(inputCol=\"bioactivity_class\", outputCol=\"label\")\n",
    "stages += [label_stringIdx]\n",
    "\n",
    "numericCols = ['MW', 'LogP', 'NumHDonors', 'NumHAcceptors']\n",
    "assembler = VectorAssembler(inputCols=numericCols, outputCol=\"features\")\n",
    "stages += [assembler]\n",
    "\n",
    "partialPipeline = Pipeline().setStages(stages)\n",
    "pipelineModel = partialPipeline.fit(data)\n",
    "preppedDataDF = pipelineModel.transform(data)"
   ]
  },
  {
   "cell_type": "code",
   "execution_count": 34,
   "id": "d26410d0-7e11-44ce-8095-1c559c9f1474",
   "metadata": {},
   "outputs": [
    {
     "name": "stdout",
     "output_type": "stream",
     "text": [
      "3045\n",
      "728\n"
     ]
    }
   ],
   "source": [
    "# Splitting the data into test and training data\n",
    "\n",
    "selectedcols = [\"label\", \"features\"] + cols\n",
    "dataset = preppedDataDF.select(selectedcols)\n",
    "\n",
    "(trainingData, testData) = dataset.randomSplit([0.8, 0.2], seed=100)\n",
    "print(trainingData.count())\n",
    "print(testData.count())"
   ]
  },
  {
   "cell_type": "markdown",
   "id": "5efa0a30-41d0-4bdd-850d-ae79094ed5ef",
   "metadata": {},
   "source": [
    "### Logistic Regression model"
   ]
  },
  {
   "cell_type": "code",
   "execution_count": 35,
   "id": "b53afedd-2580-47c9-b9c1-4a8a84e6bdd3",
   "metadata": {},
   "outputs": [],
   "source": [
    "from pyspark.ml.classification import LogisticRegression\n",
    " \n",
    "\n",
    "lr = LogisticRegression(labelCol=\"label\", featuresCol=\"features\", maxIter=10)\n",
    " \n",
    "lrModel = lr.fit(trainingData)\n",
    "lr_predictions = lrModel.transform(testData)\n",
    "lr_selected = lr_predictions.select(\"label\", \"prediction\", \"probability\")\n",
    "\n"
   ]
  },
  {
   "cell_type": "code",
   "execution_count": 38,
   "id": "79bde695-e792-4ec9-8afb-c415811a0be1",
   "metadata": {},
   "outputs": [
    {
     "data": {
      "text/plain": [
       "('Logistic regression areaUnderROC:', 0.9984311554078998)"
      ]
     },
     "execution_count": 38,
     "metadata": {},
     "output_type": "execute_result"
    }
   ],
   "source": [
    "from pyspark.ml.evaluation import BinaryClassificationEvaluator\n",
    " \n",
    "evaluator = BinaryClassificationEvaluator()\n",
    "lr_roc= evaluator.evaluate(lr_predictions)\n",
    "('Logistic regression areaUnderROC:',evaluator.evaluate(lr_predictions))"
   ]
  },
  {
   "cell_type": "code",
   "execution_count": 69,
   "id": "c8563655-8ab7-4e7f-8159-0cf441ae2540",
   "metadata": {},
   "outputs": [
    {
     "name": "stdout",
     "output_type": "stream",
     "text": [
      "              precision    recall  f1-score   support\n",
      "\n",
      "         0.0       0.96      1.00      0.98       602\n",
      "         1.0       1.00      0.78      0.88       126\n",
      "\n",
      "    accuracy                           0.96       728\n",
      "   macro avg       0.98      0.89      0.93       728\n",
      "weighted avg       0.96      0.96      0.96       728\n",
      "\n"
     ]
    }
   ],
   "source": [
    "lr_y_true = lr_predictions.select(['label']).collect()\n",
    "lr_y_pred = lr_predictions.select(['prediction']).collect()\n",
    "\n",
    "from sklearn.metrics import classification_report, confusion_matrix\n",
    "from sklearn.metrics import accuracy_score\n",
    "lr_accu=accuracy_score(lr_y_true, lr_y_pred)\n",
    "lr_cf_matrix=confusion_matrix(lr_y_true, lr_y_pred)\n",
    "print(classification_report(lr_y_true, lr_y_pred))"
   ]
  },
  {
   "cell_type": "code",
   "execution_count": 56,
   "id": "768f4757-c418-404e-922b-d9b96b5b5343",
   "metadata": {},
   "outputs": [
    {
     "data": {
      "image/png": "[encoded data removed]",
      "text/plain": [
       "<Figure size 432x288 with 2 Axes>"
      ]
     },
     "metadata": {},
     "output_type": "display_data"
    }
   ],
   "source": [
    "import seaborn as sns\n",
    "\n",
    "ax = sns.heatmap(lr_cf_matrix/np.sum(lr_cf_matrix), annot=True,fmt='.2%', cmap='Blues')\n",
    "\n",
    "ax.set_title('Confusion Matrix for LogisticRegression Model\\n');\n",
    "ax.set_xlabel('\\nPredicted Values')\n",
    "ax.set_ylabel('Actual Values ');\n",
    "\n",
    "ax.xaxis.set_ticklabels(['True','False'])\n",
    "ax.yaxis.set_ticklabels(['True','False'])\n",
    "\n",
    "plt.show()"
   ]
  },
  {
   "cell_type": "markdown",
   "id": "1410fe1d-dc64-4c91-9729-0e7db70259f0",
   "metadata": {},
   "source": [
    "### Decision Tree Classifier model"
   ]
  },
  {
   "cell_type": "code",
   "execution_count": 57,
   "id": "8c644d20-7ae4-4a47-88cf-99b0f06d10e4",
   "metadata": {},
   "outputs": [
    {
     "name": "stdout",
     "output_type": "stream",
     "text": [
      "numNodes =  25\n",
      "depth =  6\n"
     ]
    }
   ],
   "source": [
    "\n",
    "from pyspark.ml.classification import DecisionTreeClassifier\n",
    " \n",
    "dt = DecisionTreeClassifier(labelCol=\"label\", featuresCol=\"features\")\n",
    "\n",
    "from pyspark.ml.tuning import ParamGridBuilder, CrossValidator\n",
    "paramGrid = (ParamGridBuilder()\n",
    "             .addGrid(dt.maxDepth, [1, 2, 6, 10])\n",
    "             .addGrid(dt.maxBins, [20, 40, 80])\n",
    "             .build())\n",
    "\n",
    "dt_cv = CrossValidator(estimator=dt, estimatorParamMaps=paramGrid, evaluator=evaluator, numFolds=5)\n",
    "dt_cvModel = dt_cv.fit(trainingData)\n",
    "\n",
    "print(\"numNodes = \", dt_cvModel.bestModel.numNodes)\n",
    "print(\"depth = \", dt_cvModel.bestModel.depth)\n",
    "\n",
    "dt_predictions = dt_cvModel.transform(testData)"
   ]
  },
  {
   "cell_type": "code",
   "execution_count": 58,
   "id": "aea5bee7-9951-4c27-8c6b-f95475288f5e",
   "metadata": {},
   "outputs": [
    {
     "data": {
      "text/plain": [
       "0.9981015662078785"
      ]
     },
     "execution_count": 58,
     "metadata": {},
     "output_type": "execute_result"
    }
   ],
   "source": [
    "\n",
    "dt_roc=evaluator.evaluate(dt_predictions)\n",
    "dt_roc"
   ]
  },
  {
   "cell_type": "code",
   "execution_count": 71,
   "id": "a41f6969-14ea-49fd-99b7-a47c5778b3dd",
   "metadata": {},
   "outputs": [
    {
     "name": "stdout",
     "output_type": "stream",
     "text": [
      "              precision    recall  f1-score   support\n",
      "\n",
      "         0.0       0.98      0.99      0.99       602\n",
      "         1.0       0.95      0.90      0.93       126\n",
      "\n",
      "    accuracy                           0.98       728\n",
      "   macro avg       0.97      0.95      0.96       728\n",
      "weighted avg       0.98      0.98      0.98       728\n",
      "\n"
     ]
    }
   ],
   "source": [
    "dt_selected = dt_predictions.select(\"label\", \"prediction\", \"probability\")\n",
    "\n",
    "dt_y_true = dt_predictions.select(['label']).collect()\n",
    "dt_y_pred = dt_predictions.select(['prediction']).collect()\n",
    "dt_accu=accuracy_score(dt_y_true, dt_y_pred)\n",
    "cf_matrix=confusion_matrix(dt_y_true, dt_y_pred)\n",
    "print(classification_report(dt_y_true, dt_y_pred))"
   ]
  },
  {
   "cell_type": "code",
   "execution_count": 60,
   "id": "aa62fa49-62c7-48a6-8787-419ad0b98a4f",
   "metadata": {},
   "outputs": [
    {
     "data": {
      "image/png": "[encoded data removed]",
      "text/plain": [
       "<Figure size 432x288 with 2 Axes>"
      ]
     },
     "metadata": {},
     "output_type": "display_data"
    }
   ],
   "source": [
    "ax = sns.heatmap(cf_matrix/np.sum(cf_matrix), annot=True, fmt='.2%', cmap='Blues')\n",
    "\n",
    "ax.set_title('Confusion Matrix for DecisionTree Model\\n');\n",
    "ax.set_xlabel('\\nPredicted Values')\n",
    "ax.set_ylabel('Actual Values ');\n",
    "\n",
    "ax.xaxis.set_ticklabels(['True','False'])\n",
    "ax.yaxis.set_ticklabels(['True','False'])\n",
    "\n",
    "plt.show()"
   ]
  },
  {
   "cell_type": "markdown",
   "id": "60a38e0a-2833-426b-9b1b-f340c572aeab",
   "metadata": {},
   "source": [
    "### Random Forest Classifier model"
   ]
  },
  {
   "cell_type": "code",
   "execution_count": 61,
   "id": "15d826ad-733b-449f-8d67-201cf8bab867",
   "metadata": {},
   "outputs": [
    {
     "data": {
      "text/plain": [
       "1.0"
      ]
     },
     "execution_count": 61,
     "metadata": {},
     "output_type": "execute_result"
    }
   ],
   "source": [
    "from pyspark.ml.classification import RandomForestClassifier\n",
    "\n",
    "rf = RandomForestClassifier(labelCol=\"label\", featuresCol=\"features\")\n",
    "\n",
    "paramGrid = (ParamGridBuilder()\n",
    "             .addGrid(rf.maxDepth, [2, 4, 6])\n",
    "             .addGrid(rf.maxBins, [10,15,20, 60])\n",
    "             .addGrid(rf.numTrees, [5, 20])\n",
    "             .build())\n",
    "cv = CrossValidator(estimator=rf, estimatorParamMaps=paramGrid, evaluator=evaluator, numFolds=5)\n",
    "\n",
    "cvModel = cv.fit(trainingData)\n",
    "rf_predictions = cvModel.transform(testData)\n",
    "\n",
    "\n",
    "rf_roc=evaluator.evaluate(rf_predictions)\n",
    "rf_roc"
   ]
  },
  {
   "cell_type": "code",
   "execution_count": 72,
   "id": "c3a054f1-c3da-43d5-bb98-82fcb516b919",
   "metadata": {},
   "outputs": [
    {
     "name": "stdout",
     "output_type": "stream",
     "text": [
      "              precision    recall  f1-score   support\n",
      "\n",
      "         0.0       1.00      1.00      1.00       602\n",
      "         1.0       1.00      1.00      1.00       126\n",
      "\n",
      "    accuracy                           1.00       728\n",
      "   macro avg       1.00      1.00      1.00       728\n",
      "weighted avg       1.00      1.00      1.00       728\n",
      "\n"
     ]
    }
   ],
   "source": [
    "rf_selected = rf_predictions.select(\"label\", \"prediction\", \"probability\")\n",
    "\n",
    "rf_y_true = rf_predictions.select(['label']).collect()\n",
    "rf_y_pred = rf_predictions.select(['prediction']).collect()\n",
    "rf_accu=accuracy_score(rf_y_true, rf_y_pred)\n",
    "cf_matrix=confusion_matrix(rf_y_true, rf_y_pred)\n",
    "print(classification_report(rf_y_true, rf_y_pred))"
   ]
  },
  {
   "cell_type": "code",
   "execution_count": 63,
   "id": "10260288-7ec1-4e12-8503-bc70f7355270",
   "metadata": {},
   "outputs": [
    {
     "data": {
      "image/png": "[encoded data removed]",
      "text/plain": [
       "<Figure size 432x288 with 2 Axes>"
      ]
     },
     "metadata": {},
     "output_type": "display_data"
    }
   ],
   "source": [
    "ax = sns.heatmap(cf_matrix/np.sum(cf_matrix), annot=True, fmt='.2%', cmap='Blues')\n",
    "\n",
    "ax.set_title('Confusion Matrix for RandomForest Model\\n')\n",
    "ax.set_xlabel('\\nPredicted Values')\n",
    "ax.set_ylabel('Actual Values ');\n",
    "\n",
    "ax.xaxis.set_ticklabels(['True','False'])\n",
    "ax.yaxis.set_ticklabels(['True','False'])\n",
    "\n",
    "plt.show()"
   ]
  },
  {
   "cell_type": "markdown",
   "id": "e18892e6-d9d5-4caa-a97a-6fb19aa58265",
   "metadata": {},
   "source": [
    "## 4. Results"
   ]
  },
  {
   "cell_type": "code",
   "execution_count": 73,
   "id": "08202c97-913d-4372-b937-256e3663d74d",
   "metadata": {},
   "outputs": [
    {
     "data": {
      "text/html": [
       "<div>\n",
       "<style scoped>\n",
       "    .dataframe tbody tr th:only-of-type {\n",
       "        vertical-align: middle;\n",
       "    }\n",
       "\n",
       "    .dataframe tbody tr th {\n",
       "        vertical-align: top;\n",
       "    }\n",
       "\n",
       "    .dataframe thead th {\n",
       "        text-align: right;\n",
       "    }\n",
       "</style>\n",
       "<table border=\"1\" class=\"dataframe\">\n",
       "  <thead>\n",
       "    <tr style=\"text-align: right;\">\n",
       "      <th></th>\n",
       "      <th>Models</th>\n",
       "      <th>Performance_(areaUnderROC)</th>\n",
       "      <th>Accuracy</th>\n",
       "    </tr>\n",
       "  </thead>\n",
       "  <tbody>\n",
       "    <tr>\n",
       "      <th>0</th>\n",
       "      <td>Logistic Regression</td>\n",
       "      <td>0.998431</td>\n",
       "      <td>0.961538</td>\n",
       "    </tr>\n",
       "    <tr>\n",
       "      <th>1</th>\n",
       "      <td>Decision Tree</td>\n",
       "      <td>0.998102</td>\n",
       "      <td>0.975275</td>\n",
       "    </tr>\n",
       "    <tr>\n",
       "      <th>2</th>\n",
       "      <td>Random Forest</td>\n",
       "      <td>1.000000</td>\n",
       "      <td>1.000000</td>\n",
       "    </tr>\n",
       "  </tbody>\n",
       "</table>\n",
       "</div>"
      ],
      "text/plain": [
       "                Models  Performance_(areaUnderROC)  Accuracy\n",
       "0  Logistic Regression                    0.998431  0.961538\n",
       "1        Decision Tree                    0.998102  0.975275\n",
       "2        Random Forest                    1.000000  1.000000"
      ]
     },
     "execution_count": 73,
     "metadata": {},
     "output_type": "execute_result"
    }
   ],
   "source": [
    "\n",
    "model_Compare = pd.DataFrame({'Models':['Logistic Regression','Decision Tree', 'Random Forest'], \n",
    "                         'Performance_(areaUnderROC)':[lr_roc,dt_roc,rf_roc],\n",
    "                             'Accuracy':[lr_accu,dt_accu,rf_accu]})\n",
    "model_Compare"
   ]
  },
  {
   "cell_type": "markdown",
   "id": "24739b54-6abf-4dc9-815b-036205f835e1",
   "metadata": {},
   "source": [
    "> When the positive class is larger in the dataset then ROC metrics are most suitable. Because the precision and recall would reflect mostly the ability of prediction of the positive class and not the negative class which will naturally be harder to detect due to the smaller number of samples. So if we compare the areUnderROC for all the three models there is not much difference. Random Forest is giving 1 value but it is probably overfitting to the dataset. Currently my data is very small, that's why decision trees and random forests are fast. If we try it on large scale DT and RF will be very computationally costly so Logistic Regression will be the best choice. We can see Logistic Regression is giving better performance 0.9984. Also the accuracy of the Logistic Regression model is 96% which is a pretty good score. "
   ]
  },
  {
   "cell_type": "markdown",
   "id": "a42ccf94-8290-4c66-bcda-6c9bbb797c34",
   "metadata": {},
   "source": [
    "#### References \n",
    "- https://towardsdatascience.com/apache-spark-mllib-tutorial-part-3-complete-classification-workflow-a1eb430ad069\n",
    "- https://docs.databricks.com/_static/notebooks/binary-classification.html\n",
    "- https://towardsdatascience.com/what-metrics-should-we-use-on-imbalanced-data-set-precision-recall-roc-e2e79252aeba\n",
    "- https://en.wikipedia.org/wiki/Lipinski%27s_rule_of_five\n"
   ]
  }
 ],
 "metadata": {
  "kernelspec": {
   "display_name": "Python 3 (ipykernel)",
   "language": "python",
   "name": "python3"
  },
  "language_info": {
   "codemirror_mode": {
    "name": "ipython",
    "version": 3
   },
   "file_extension": ".py",
   "mimetype": "text/x-python",
   "name": "python",
   "nbconvert_exporter": "python",
   "pygments_lexer": "ipython3",
   "version": "3.9.10"
  }
 },
 "nbformat": 4,
 "nbformat_minor": 5
}
