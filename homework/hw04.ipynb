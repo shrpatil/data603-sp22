{
 "cells": [
  {
   "cell_type": "code",
   "execution_count": 1,
   "id": "890611bc-9684-4a20-841a-f05510e30e44",
   "metadata": {},
   "outputs": [],
   "source": [
    "import pyspark\n",
    "spark = pyspark.sql.SparkSession.builder.getOrCreate()\n",
    "sc = spark.sparkContext\n",
    "from pyspark.sql.types import StructType,StructField, StringType, IntegerType, FloatType"
   ]
  },
  {
   "cell_type": "code",
   "execution_count": 2,
   "id": "01e7f48b-0908-44c8-9f5e-ee04b4ded475",
   "metadata": {},
   "outputs": [
    {
     "data": {
      "text/html": [
       "\n",
       "            <div>\n",
       "                <p><b>SparkSession - in-memory</b></p>\n",
       "                \n",
       "        <div>\n",
       "            <p><b>SparkContext</b></p>\n",
       "\n",
       "            <p><a href=\"http://4580aa86c773:4040\">Spark UI</a></p>\n",
       "\n",
       "            <dl>\n",
       "              <dt>Version</dt>\n",
       "                <dd><code>v3.2.1</code></dd>\n",
       "              <dt>Master</dt>\n",
       "                <dd><code>local[*]</code></dd>\n",
       "              <dt>AppName</dt>\n",
       "                <dd><code>pyspark-shell</code></dd>\n",
       "            </dl>\n",
       "        </div>\n",
       "        \n",
       "            </div>\n",
       "        "
      ],
      "text/plain": [
       "<pyspark.sql.session.SparkSession at 0xffff8c8941f0>"
      ]
     },
     "execution_count": 2,
     "metadata": {},
     "output_type": "execute_result"
    }
   ],
   "source": [
    "from pyspark.sql import SparkSession\n",
    "spark = SparkSession.builder.getOrCreate()\n",
    "spark"
   ]
  },
  {
   "cell_type": "code",
   "execution_count": 3,
   "id": "52137f3d-9c46-42bc-b72b-e1495fc72981",
   "metadata": {},
   "outputs": [],
   "source": [
    "data = spark.read.csv('Part1_Crime_data.csv')"
   ]
  },
  {
   "cell_type": "code",
   "execution_count": 4,
   "id": "4594a48f-69f3-47f8-8a5c-a84b9a9e65fd",
   "metadata": {},
   "outputs": [
    {
     "data": {
      "text/plain": [
       "[Row(_c0='X', _c1='Y', _c2='RowID', _c3='CrimeDateTime', _c4='CrimeCode', _c5='Location', _c6='Description', _c7='Inside_Outside', _c8='Weapon', _c9='Post', _c10='District', _c11='Neighborhood', _c12='Latitude', _c13='Longitude', _c14='GeoLocation', _c15='Premise', _c16='VRIName', _c17='Total_Incidents', _c18='Shape'),\n",
       " Row(_c0='1420074.13302107', _c1='594160.602354662', _c2='1', _c3='2022/02/26 04:00:00+00', _c4='4E', _c5='200 W MONUMENT ST', _c6='COMMON ASSAULT', _c7=None, _c8='NA', _c9='124', _c10='CENTRAL', _c11='MOUNT VERNON', _c12='39.2975', _c13='-76.6193', _c14='(39.2975,-76.6193)', _c15=None, _c16=None, _c17='1', _c18=None),\n",
       " Row(_c0='1411374.22509631', _c1='589791.383964529', _c2='2', _c3='2022/02/26 01:26:30+00', _c4='9S', _c5='2100 FREDERICK AVE', _c6='SHOOTING', _c7='Outside', _c8='FIREARM', _c9='835', _c10='SOUTHWEST', _c11='CARROLLTON RIDGE', _c12='39.2856', _c13='-76.6501', _c14='(39.2856,-76.6501)', _c15='COMMON BUSINESS', _c16='Tri-District', _c17='1', _c18=None)]"
      ]
     },
     "execution_count": 4,
     "metadata": {},
     "output_type": "execute_result"
    }
   ],
   "source": [
    "data.head(3)"
   ]
  },
  {
   "cell_type": "code",
   "execution_count": 5,
   "id": "ae01af0e-5be4-4591-84d5-0ce22440bb51",
   "metadata": {},
   "outputs": [],
   "source": [
    "schema = StructType([ \\\n",
    "    StructField(\"X\",FloatType(),True), \\\n",
    "    StructField(\"Y\",FloatType(),True), \\\n",
    "    StructField(\"RowID\",IntegerType(),True), \\\n",
    "    StructField(\"CrimeDateTime\", StringType(), True), \\\n",
    "    StructField(\"CrimeCode\", StringType(), True), \\\n",
    "    StructField(\"Location\", StringType(), True), \\\n",
    "    StructField(\"Description\",StringType(),True), \\\n",
    "    StructField(\"Inside_Outside\",StringType(),True), \\\n",
    "    StructField(\"Weapon\",StringType(),True), \\\n",
    "    StructField(\"Post\", IntegerType(), True), \\\n",
    "    StructField(\"District\", StringType(), True), \\\n",
    "    StructField(\"Neighborhood\", StringType(), True), \\\n",
    "    StructField(\"Latitude\",FloatType(),True), \\\n",
    "    StructField(\"Longitude\",FloatType(),True), \\\n",
    "    StructField(\"GeoLocation\",StringType(),True), \\\n",
    "    StructField(\"Premise\", StringType(), True), \\\n",
    "    StructField(\"VRINAme\", StringType(), True), \\\n",
    "    StructField(\"Total_Incidents\", IntegerType(), True), \\\n",
    "    StructField(\"Shape\", IntegerType(), True)\n",
    "  ])"
   ]
  },
  {
   "cell_type": "code",
   "execution_count": 6,
   "id": "a71c6ef7-ba6d-4931-87e6-9709ea54a056",
   "metadata": {},
   "outputs": [],
   "source": [
    "df= spark.read.csv('Part1_Crime_data.csv', schema=schema)"
   ]
  },
  {
   "cell_type": "code",
   "execution_count": 7,
   "id": "c5e929d9-ac10-412c-b62d-fb2b54d2f8ae",
   "metadata": {},
   "outputs": [
    {
     "data": {
      "text/plain": [
       "[Row(X=None, Y=None, RowID=None, CrimeDateTime='CrimeDateTime', CrimeCode='CrimeCode', Location='Location', Description='Description', Inside_Outside='Inside_Outside', Weapon='Weapon', Post=None, District='District', Neighborhood='Neighborhood', Latitude=None, Longitude=None, GeoLocation='GeoLocation', Premise='Premise', VRINAme='VRIName', Total_Incidents=None, Shape=None),\n",
       " Row(X=1420074.125, Y=594160.625, RowID=1, CrimeDateTime='2022/02/26 04:00:00+00', CrimeCode='4E', Location='200 W MONUMENT ST', Description='COMMON ASSAULT', Inside_Outside=None, Weapon='NA', Post=124, District='CENTRAL', Neighborhood='MOUNT VERNON', Latitude=39.29750061035156, Longitude=-76.61930084228516, GeoLocation='(39.2975,-76.6193)', Premise=None, VRINAme=None, Total_Incidents=1, Shape=None)]"
      ]
     },
     "execution_count": 7,
     "metadata": {},
     "output_type": "execute_result"
    }
   ],
   "source": [
    "df.head(2)"
   ]
  },
  {
   "cell_type": "code",
   "execution_count": 8,
   "id": "cb7db835-c0b7-43ae-89c9-b54030daa77f",
   "metadata": {},
   "outputs": [
    {
     "data": {
      "text/plain": [
       "DataFrame[X: float, Y: float, RowID: int, CrimeDateTime: string, CrimeCode: string, Location: string, Description: string, Inside_Outside: string, Weapon: string, Post: int, District: string, Neighborhood: string, Latitude: float, Longitude: float, GeoLocation: string, Premise: string, VRINAme: string, Total_Incidents: int, Shape: int]"
      ]
     },
     "execution_count": 8,
     "metadata": {},
     "output_type": "execute_result"
    }
   ],
   "source": [
    "df.cache()\n"
   ]
  },
  {
   "cell_type": "code",
   "execution_count": 9,
   "id": "413abcd8-191c-43d3-bd78-b901b93db3fa",
   "metadata": {},
   "outputs": [
    {
     "data": {
      "text/plain": [
       "DataFrame[X: float, Y: float, RowID: int, CrimeDateTime: string, CrimeCode: string, Location: string, Description: string, Inside_Outside: string, Weapon: string, Post: int, District: string, Neighborhood: string, Latitude: float, Longitude: float, GeoLocation: string, Premise: string, VRINAme: string, Total_Incidents: int, Shape: int]"
      ]
     },
     "execution_count": 9,
     "metadata": {},
     "output_type": "execute_result"
    }
   ],
   "source": [
    "df.persist()\n"
   ]
  },
  {
   "cell_type": "code",
   "execution_count": 10,
   "id": "9562af58-a13b-4d2e-8722-a26189d611ea",
   "metadata": {},
   "outputs": [
    {
     "name": "stdout",
     "output_type": "stream",
     "text": [
      "Number of Rows: 513159\n"
     ]
    }
   ],
   "source": [
    "print('Number of Rows:',df.count())"
   ]
  },
  {
   "cell_type": "code",
   "execution_count": 11,
   "id": "c9f7091d-5d21-4da4-83fc-d7555f38d1db",
   "metadata": {},
   "outputs": [
    {
     "name": "stdout",
     "output_type": "stream",
     "text": [
      "root\n",
      " |-- X: float (nullable = true)\n",
      " |-- Y: float (nullable = true)\n",
      " |-- RowID: integer (nullable = true)\n",
      " |-- CrimeDateTime: string (nullable = true)\n",
      " |-- CrimeCode: string (nullable = true)\n",
      " |-- Location: string (nullable = true)\n",
      " |-- Description: string (nullable = true)\n",
      " |-- Inside_Outside: string (nullable = true)\n",
      " |-- Weapon: string (nullable = true)\n",
      " |-- Post: integer (nullable = true)\n",
      " |-- District: string (nullable = true)\n",
      " |-- Neighborhood: string (nullable = true)\n",
      " |-- Latitude: float (nullable = true)\n",
      " |-- Longitude: float (nullable = true)\n",
      " |-- GeoLocation: string (nullable = true)\n",
      " |-- Premise: string (nullable = true)\n",
      " |-- VRINAme: string (nullable = true)\n",
      " |-- Total_Incidents: integer (nullable = true)\n",
      " |-- Shape: integer (nullable = true)\n",
      "\n"
     ]
    }
   ],
   "source": [
    "df.printSchema()"
   ]
  },
  {
   "cell_type": "code",
   "execution_count": 12,
   "id": "295bbbe2-a59f-4ba2-9eb0-ee83cebcfb03",
   "metadata": {},
   "outputs": [
    {
     "name": "stdout",
     "output_type": "stream",
     "text": [
      "+---------+---------+-----+--------------------+---------+-------------------+--------------+--------------+-------+----+---------+----------------+--------+---------+------------------+---------------+------------+---------------+-----+\n",
      "|        X|        Y|RowID|       CrimeDateTime|CrimeCode|           Location|   Description|Inside_Outside| Weapon|Post| District|    Neighborhood|Latitude|Longitude|       GeoLocation|        Premise|     VRINAme|Total_Incidents|Shape|\n",
      "+---------+---------+-----+--------------------+---------+-------------------+--------------+--------------+-------+----+---------+----------------+--------+---------+------------------+---------------+------------+---------------+-----+\n",
      "|     null|     null| null|       CrimeDateTime|CrimeCode|           Location|   Description|Inside_Outside| Weapon|null| District|    Neighborhood|    null|     null|       GeoLocation|        Premise|     VRIName|           null| null|\n",
      "|1420074.1| 594160.6|    1|2022/02/26 04:00:...|       4E|  200 W MONUMENT ST|COMMON ASSAULT|          null|     NA| 124|  CENTRAL|    MOUNT VERNON| 39.2975| -76.6193|(39.2975,-76.6193)|           null|        null|              1| null|\n",
      "|1411374.2| 589791.4|    2|2022/02/26 01:26:...|       9S| 2100 FREDERICK AVE|      SHOOTING|       Outside|FIREARM| 835|SOUTHWEST|CARROLLTON RIDGE| 39.2856| -76.6501|(39.2856,-76.6501)|COMMON BUSINESS|Tri-District|              1| null|\n",
      "|1411401.1|582761.75|    3|2022/02/26 10:22:...|       4E| 2000 GRINNALDS AVE|COMMON ASSAULT|          null|     NA| 831|SOUTHWEST|    MORRELL PARK| 39.2663| -76.6501|(39.2663,-76.6501)|           null|        null|              1| null|\n",
      "|1422663.1| 597595.4|    4|2022/02/26 01:11:...|       7A|    400 E OLIVER ST|    AUTO THEFT|          null|     NA| 313|  EASTERN| GREENMOUNT WEST| 39.3069| -76.6101|(39.3069,-76.6101)|           null|        null|              1| null|\n",
      "|1440496.5| 607767.1|    5|2022/02/26 12:30:...|       4B|5300 PLAINFIELD AVE|  AGG. ASSAULT|          null|  KNIFE| 444|NORTHEAST|       FRANKFORD| 39.3346| -76.5469|(39.3346,-76.5469)|           null|        null|              1| null|\n",
      "+---------+---------+-----+--------------------+---------+-------------------+--------------+--------------+-------+----+---------+----------------+--------+---------+------------------+---------------+------------+---------------+-----+\n",
      "only showing top 6 rows\n",
      "\n"
     ]
    }
   ],
   "source": [
    "df.show(6)"
   ]
  },
  {
   "cell_type": "markdown",
   "id": "a06d3be4-deff-4895-80a0-567056c1c79f",
   "metadata": {},
   "source": [
    "### 1. What are distinct crime codes?"
   ]
  },
  {
   "cell_type": "code",
   "execution_count": 13,
   "id": "93d3187a-80bf-47a1-a615-023b025bf3b2",
   "metadata": {},
   "outputs": [
    {
     "data": {
      "text/plain": [
       "[Row(CrimeCode='3P'),\n",
       " Row(CrimeCode='3K'),\n",
       " Row(CrimeCode='3BJ'),\n",
       " Row(CrimeCode='1A'),\n",
       " Row(CrimeCode='3M'),\n",
       " Row(CrimeCode='5F'),\n",
       " Row(CrimeCode='4B'),\n",
       " Row(CrimeCode='3B'),\n",
       " Row(CrimeCode='7A'),\n",
       " Row(CrimeCode='3NF'),\n",
       " Row(CrimeCode='3EF'),\n",
       " Row(CrimeCode='3N'),\n",
       " Row(CrimeCode='5D'),\n",
       " Row(CrimeCode='6K'),\n",
       " Row(CrimeCode='3LO'),\n",
       " Row(CrimeCode='3AF'),\n",
       " Row(CrimeCode='7B'),\n",
       " Row(CrimeCode='3GO'),\n",
       " Row(CrimeCode='3AJF'),\n",
       " Row(CrimeCode='8GV'),\n",
       " Row(CrimeCode='8AO'),\n",
       " Row(CrimeCode='7C'),\n",
       " Row(CrimeCode='3AK'),\n",
       " Row(CrimeCode='3GK'),\n",
       " Row(CrimeCode='6L'),\n",
       " Row(CrimeCode='3EO'),\n",
       " Row(CrimeCode='3JO'),\n",
       " Row(CrimeCode='3F'),\n",
       " Row(CrimeCode='1K'),\n",
       " Row(CrimeCode='8H'),\n",
       " Row(CrimeCode='8CV'),\n",
       " Row(CrimeCode='4C'),\n",
       " Row(CrimeCode='5A'),\n",
       " Row(CrimeCode='6C'),\n",
       " Row(CrimeCode='3NK'),\n",
       " Row(CrimeCode='3D'),\n",
       " Row(CrimeCode='6H'),\n",
       " Row(CrimeCode='3LK'),\n",
       " Row(CrimeCode='3AJK'),\n",
       " Row(CrimeCode='CrimeCode'),\n",
       " Row(CrimeCode='3CO'),\n",
       " Row(CrimeCode='3L'),\n",
       " Row(CrimeCode='4E'),\n",
       " Row(CrimeCode='8BV'),\n",
       " Row(CrimeCode='6D'),\n",
       " Row(CrimeCode='2A'),\n",
       " Row(CrimeCode='3C'),\n",
       " Row(CrimeCode='8I'),\n",
       " Row(CrimeCode='3NO'),\n",
       " Row(CrimeCode='3JF'),\n",
       " Row(CrimeCode='3E'),\n",
       " Row(CrimeCode='3LF'),\n",
       " Row(CrimeCode='1O'),\n",
       " Row(CrimeCode='8J'),\n",
       " Row(CrimeCode='3CK'),\n",
       " Row(CrimeCode='8BO'),\n",
       " Row(CrimeCode='2B'),\n",
       " Row(CrimeCode='3JK'),\n",
       " Row(CrimeCode='5B'),\n",
       " Row(CrimeCode='4A'),\n",
       " Row(CrimeCode='8GO'),\n",
       " Row(CrimeCode='8EV'),\n",
       " Row(CrimeCode='3CF'),\n",
       " Row(CrimeCode='8EO'),\n",
       " Row(CrimeCode='6G'),\n",
       " Row(CrimeCode='6A'),\n",
       " Row(CrimeCode='9S'),\n",
       " Row(CrimeCode='3EK'),\n",
       " Row(CrimeCode='8FV'),\n",
       " Row(CrimeCode='3GF'),\n",
       " Row(CrimeCode='3H'),\n",
       " Row(CrimeCode='4D'),\n",
       " Row(CrimeCode='8FO'),\n",
       " Row(CrimeCode='6J'),\n",
       " Row(CrimeCode='6F'),\n",
       " Row(CrimeCode='6E'),\n",
       " Row(CrimeCode='3J'),\n",
       " Row(CrimeCode='5C'),\n",
       " Row(CrimeCode='5G'),\n",
       " Row(CrimeCode='8AV'),\n",
       " Row(CrimeCode='5E'),\n",
       " Row(CrimeCode='3AJO'),\n",
       " Row(CrimeCode='3AO'),\n",
       " Row(CrimeCode='6B'),\n",
       " Row(CrimeCode='8DO'),\n",
       " Row(CrimeCode='8CO')]"
      ]
     },
     "execution_count": 13,
     "metadata": {},
     "output_type": "execute_result"
    }
   ],
   "source": [
    "df.select('CrimeCode').distinct().collect()"
   ]
  },
  {
   "cell_type": "markdown",
   "id": "a960f335-7724-4547-a2a6-45f8d032cdc9",
   "metadata": {},
   "source": [
    "### 2. Count the number of crimes by the crime codes and order by the resulting counts in descending order"
   ]
  },
  {
   "cell_type": "code",
   "execution_count": 14,
   "id": "a9d9b1ee-4349-46f1-ae26-251d03898851",
   "metadata": {},
   "outputs": [
    {
     "name": "stdout",
     "output_type": "stream",
     "text": [
      "+---------+-----+\n",
      "|CrimeCode|count|\n",
      "+---------+-----+\n",
      "|       4E|91650|\n",
      "|       6D|68427|\n",
      "|       5A|43928|\n",
      "|       7A|40274|\n",
      "|       6J|27636|\n",
      "|       6G|26858|\n",
      "|       6E|24300|\n",
      "|       6C|23227|\n",
      "|       4C|22438|\n",
      "|       5D|14971|\n",
      "|      3AF|14739|\n",
      "|       4B|14460|\n",
      "|       4A|13226|\n",
      "|       3B|10737|\n",
      "|       4D| 7232|\n",
      "|       5B| 6475|\n",
      "|       9S| 5443|\n",
      "|       6F| 5081|\n",
      "|       5C| 4917|\n",
      "|       6B| 4106|\n",
      "+---------+-----+\n",
      "only showing top 20 rows\n",
      "\n"
     ]
    }
   ],
   "source": [
    "CrimeCode_count=(\n",
    "    df.groupby(\"CrimeCode\")\n",
    "      .count()\n",
    "      .sort(\"count\", ascending=0)\n",
    ")\n",
    "CrimeCode_count.show()"
   ]
  },
  {
   "cell_type": "markdown",
   "id": "a17b506f-ca3b-49cd-a962-65d15a70602f",
   "metadata": {},
   "source": [
    "### 3.Which neighborhood had most crimes?"
   ]
  },
  {
   "cell_type": "code",
   "execution_count": 15,
   "id": "9299826e-2053-401d-a724-82c98f248afe",
   "metadata": {},
   "outputs": [
    {
     "data": {
      "text/plain": [
       "[Row(Neighborhood='DOWNTOWN', count=17799)]"
      ]
     },
     "metadata": {},
     "output_type": "display_data"
    }
   ],
   "source": [
    "max_crime =(\n",
    "    df.groupby(\"Neighborhood\")\n",
    "      .count()\n",
    "      .sort(\"count\", ascending=0)\n",
    ")\n",
    "display(max_crime.take(1))"
   ]
  },
  {
   "cell_type": "markdown",
   "id": "8659f8fb-8db0-4b18-8822-1a52f2672bdd",
   "metadata": {},
   "source": [
    "### 4. Which month of the year had most crimes?"
   ]
  },
  {
   "cell_type": "code",
   "execution_count": 16,
   "id": "8d40a40c-6bba-4ffb-aa6d-3de11df69126",
   "metadata": {},
   "outputs": [],
   "source": [
    "from pyspark.sql.functions import *\n",
    "\n",
    "date_df= df.select('CrimeDateTime')"
   ]
  },
  {
   "cell_type": "code",
   "execution_count": 17,
   "id": "0493debf-eb32-46ae-9a8a-e3cc5991fb5d",
   "metadata": {},
   "outputs": [
    {
     "name": "stdout",
     "output_type": "stream",
     "text": [
      "+--------------------+----------------------+\n",
      "|       CrimeDateTime|Converted_to_TimeStamp|\n",
      "+--------------------+----------------------+\n",
      "|       CrimeDateTime|                  null|\n",
      "|2022/02/26 04:00:...|   2022-02-26 04:00:00|\n",
      "|2022/02/26 01:26:...|   2022-02-26 01:26:30|\n",
      "|2022/02/26 10:22:...|   2022-02-26 10:22:00|\n",
      "|2022/02/26 01:11:...|   2022-02-26 01:11:00|\n",
      "|2022/02/26 12:30:...|   2022-02-26 12:30:00|\n",
      "|2022/02/26 05:40:...|   2022-02-26 05:40:00|\n",
      "|2022/02/26 05:40:...|   2022-02-26 05:40:00|\n",
      "|2022/02/26 14:32:...|   2022-02-26 14:32:00|\n",
      "|2022/02/26 03:05:...|   2022-02-26 03:05:00|\n",
      "|2022/02/26 14:10:...|   2022-02-26 14:10:00|\n",
      "|2022/02/26 19:30:...|   2022-02-26 19:30:00|\n",
      "|2022/02/26 01:28:...|   2022-02-26 01:28:00|\n",
      "|2022/02/26 01:28:...|   2022-02-26 01:28:00|\n",
      "|2022/02/26 01:28:...|   2022-02-26 01:28:00|\n",
      "|2022/02/26 19:30:...|   2022-02-26 19:30:00|\n",
      "|2022/02/26 20:45:...|   2022-02-26 20:45:00|\n",
      "|2022/02/26 01:28:...|   2022-02-26 01:28:00|\n",
      "|2022/02/26 01:28:...|   2022-02-26 01:28:00|\n",
      "|2022/02/26 01:28:...|   2022-02-26 01:28:00|\n",
      "+--------------------+----------------------+\n",
      "only showing top 20 rows\n",
      "\n"
     ]
    }
   ],
   "source": [
    "#Timestamp String to DateType\n",
    "\n",
    "date_df=date_df.withColumn(\"Converted_to_TimeStamp\",to_timestamp(\"CrimeDateTime\", \"yyyy/MM/dd HH:mm:ss+00\"))\n",
    "date_df.show()"
   ]
  },
  {
   "cell_type": "code",
   "execution_count": 18,
   "id": "0af2c811-5656-4904-bbef-b14894764aa9",
   "metadata": {},
   "outputs": [
    {
     "name": "stdout",
     "output_type": "stream",
     "text": [
      "+--------------------+----------------------+----------+-----+\n",
      "|       CrimeDateTime|Converted_to_TimeStamp|      Date|Month|\n",
      "+--------------------+----------------------+----------+-----+\n",
      "|       CrimeDateTime|                  null|      null| null|\n",
      "|2022/02/26 04:00:...|   2022-02-26 04:00:00|2022-02-26|    2|\n",
      "|2022/02/26 01:26:...|   2022-02-26 01:26:30|2022-02-26|    2|\n",
      "|2022/02/26 10:22:...|   2022-02-26 10:22:00|2022-02-26|    2|\n",
      "|2022/02/26 01:11:...|   2022-02-26 01:11:00|2022-02-26|    2|\n",
      "|2022/02/26 12:30:...|   2022-02-26 12:30:00|2022-02-26|    2|\n",
      "|2022/02/26 05:40:...|   2022-02-26 05:40:00|2022-02-26|    2|\n",
      "|2022/02/26 05:40:...|   2022-02-26 05:40:00|2022-02-26|    2|\n",
      "|2022/02/26 14:32:...|   2022-02-26 14:32:00|2022-02-26|    2|\n",
      "|2022/02/26 03:05:...|   2022-02-26 03:05:00|2022-02-26|    2|\n",
      "|2022/02/26 14:10:...|   2022-02-26 14:10:00|2022-02-26|    2|\n",
      "|2022/02/26 19:30:...|   2022-02-26 19:30:00|2022-02-26|    2|\n",
      "|2022/02/26 01:28:...|   2022-02-26 01:28:00|2022-02-26|    2|\n",
      "|2022/02/26 01:28:...|   2022-02-26 01:28:00|2022-02-26|    2|\n",
      "|2022/02/26 01:28:...|   2022-02-26 01:28:00|2022-02-26|    2|\n",
      "|2022/02/26 19:30:...|   2022-02-26 19:30:00|2022-02-26|    2|\n",
      "|2022/02/26 20:45:...|   2022-02-26 20:45:00|2022-02-26|    2|\n",
      "|2022/02/26 01:28:...|   2022-02-26 01:28:00|2022-02-26|    2|\n",
      "|2022/02/26 01:28:...|   2022-02-26 01:28:00|2022-02-26|    2|\n",
      "|2022/02/26 01:28:...|   2022-02-26 01:28:00|2022-02-26|    2|\n",
      "+--------------------+----------------------+----------+-----+\n",
      "only showing top 20 rows\n",
      "\n"
     ]
    }
   ],
   "source": [
    "month_df = date_df.withColumn(\"Date\", to_date(col(\"Converted_to_TimeStamp\"), \"yyyy/MM/dd\")).withColumn('Month', month(\"Date\"))\n",
    "month_df.show()\n"
   ]
  },
  {
   "cell_type": "code",
   "execution_count": 19,
   "id": "a4a45743-7f6f-44f3-ac7d-4d1d005ca971",
   "metadata": {},
   "outputs": [
    {
     "data": {
      "text/plain": [
       "[Row(Month=8, count=46327)]"
      ]
     },
     "metadata": {},
     "output_type": "display_data"
    }
   ],
   "source": [
    "m_df =(\n",
    "    \n",
    "month_df.groupby(\"Month\")\n",
    "        .count()\n",
    "        .sort(\"count\", ascending=0)\n",
    ")\n",
    "display(m_df.take(1))"
   ]
  },
  {
   "cell_type": "markdown",
   "id": "cb22dfc2-611d-4e2d-9ae8-c8d042745655",
   "metadata": {},
   "source": [
    "### 5. What weapons were used? "
   ]
  },
  {
   "cell_type": "code",
   "execution_count": 20,
   "id": "4a1bcfad-b4eb-42af-bcce-6e52bcc62256",
   "metadata": {},
   "outputs": [
    {
     "data": {
      "text/plain": [
       "[Row(Weapon='NA'),\n",
       " Row(Weapon=None),\n",
       " Row(Weapon='HANDS'),\n",
       " Row(Weapon='KNIFE'),\n",
       " Row(Weapon='OTHER'),\n",
       " Row(Weapon='Weapon'),\n",
       " Row(Weapon='FIRE'),\n",
       " Row(Weapon='FIREARM')]"
      ]
     },
     "execution_count": 20,
     "metadata": {},
     "output_type": "execute_result"
    }
   ],
   "source": [
    "df.select('Weapon').distinct().collect()"
   ]
  },
  {
   "cell_type": "markdown",
   "id": "5e598334-c065-4f9c-b772-f7f61f0a66de",
   "metadata": {},
   "source": [
    "### 6. Which weapon was used the most? "
   ]
  },
  {
   "cell_type": "code",
   "execution_count": 21,
   "id": "87c4271d-0fc6-4886-ae62-96e88eaf4f16",
   "metadata": {},
   "outputs": [
    {
     "name": "stdout",
     "output_type": "stream",
     "text": [
      "+-------+-----+\n",
      "| Weapon|count|\n",
      "+-------+-----+\n",
      "|FIREARM|46139|\n",
      "|  OTHER|30248|\n",
      "|  KNIFE|19140|\n",
      "|  HANDS| 7232|\n",
      "|   FIRE| 2348|\n",
      "| Weapon|    1|\n",
      "+-------+-----+\n",
      "\n"
     ]
    }
   ],
   "source": [
    "weapons =(\n",
    "    df.where(\"Weapon != 'NA'\")\n",
    "      .groupby(\"Weapon\")\n",
    "      .count()\n",
    "      .sort(\"count\", ascending=0)\n",
    ")\n",
    "weapons.show()\n"
   ]
  },
  {
   "cell_type": "code",
   "execution_count": 22,
   "id": "f0445db2-8604-4700-b579-6dbd8b2f366c",
   "metadata": {},
   "outputs": [
    {
     "name": "stdout",
     "output_type": "stream",
     "text": [
      "Most Used Weapon [Row(Weapon='FIREARM')]\n"
     ]
    }
   ],
   "source": [
    "used_weapon=(weapons.select('Weapon').take(1))\n",
    "print('Most Used Weapon', used_weapon)"
   ]
  },
  {
   "cell_type": "code",
   "execution_count": null,
   "id": "b5e01d25-069f-4e0c-85ed-42fa564aed63",
   "metadata": {},
   "outputs": [],
   "source": []
  }
 ],
 "metadata": {
  "kernelspec": {
   "display_name": "Python 3 (ipykernel)",
   "language": "python",
   "name": "python3"
  },
  "language_info": {
   "codemirror_mode": {
    "name": "ipython",
    "version": 3
   },
   "file_extension": ".py",
   "mimetype": "text/x-python",
   "name": "python",
   "nbconvert_exporter": "python",
   "pygments_lexer": "ipython3",
   "version": "3.9.10"
  }
 },
 "nbformat": 4,
 "nbformat_minor": 5
}
